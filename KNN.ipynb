{
  "nbformat": 4,
  "nbformat_minor": 0,
  "metadata": {
    "colab": {
      "provenance": []
    },
    "kernelspec": {
      "name": "python3",
      "display_name": "Python 3"
    },
    "language_info": {
      "name": "python"
    }
  },
  "cells": [
    {
      "cell_type": "code",
      "execution_count": null,
      "metadata": {
        "id": "13vrXly_LS26"
      },
      "outputs": [],
      "source": [
        "import pandas as pd\n",
        "import numpy as np\n",
        "import matplotlib.pyplot as plt\n",
        "from scipy import stats\n",
        "from sklearn.model_selection import train_test_split\n",
        "from google.colab import files\n",
        "import io\n",
        "from sklearn.neighbors import KNeighborsClassifier\n",
        "from sklearn.metrics import accuracy_score, classification_report, precision_score, recall_score\n",
        "from sklearn.model_selection import cross_val_score"
      ]
    },
    {
      "cell_type": "code",
      "source": [
        "from sklearn.metrics import classification_report\n",
        "from sklearn.metrics import roc_auc_score\n",
        "from sklearn.model_selection import GridSearchCV"
      ],
      "metadata": {
        "id": "1XHua10BUzZR"
      },
      "execution_count": null,
      "outputs": []
    },
    {
      "cell_type": "code",
      "source": [
        "uploaded = files.upload()\n",
        "df = pd.read_csv(io.BytesIO(uploaded['inspection2023_Ver2.csv']))"
      ],
      "metadata": {
        "colab": {
          "base_uri": "https://localhost:8080/",
          "height": 74
        },
        "id": "FETPFD3yM_wI",
        "outputId": "871bcf9a-df21-4797-8e8b-5a85fa2e3cac"
      },
      "execution_count": null,
      "outputs": [
        {
          "output_type": "display_data",
          "data": {
            "text/plain": [
              "<IPython.core.display.HTML object>"
            ],
            "text/html": [
              "\n",
              "     <input type=\"file\" id=\"files-b40c744f-4c7d-43ac-b1ba-6cec177e15b5\" name=\"files[]\" multiple disabled\n",
              "        style=\"border:none\" />\n",
              "     <output id=\"result-b40c744f-4c7d-43ac-b1ba-6cec177e15b5\">\n",
              "      Upload widget is only available when the cell has been executed in the\n",
              "      current browser session. Please rerun this cell to enable.\n",
              "      </output>\n",
              "      <script>// Copyright 2017 Google LLC\n",
              "//\n",
              "// Licensed under the Apache License, Version 2.0 (the \"License\");\n",
              "// you may not use this file except in compliance with the License.\n",
              "// You may obtain a copy of the License at\n",
              "//\n",
              "//      http://www.apache.org/licenses/LICENSE-2.0\n",
              "//\n",
              "// Unless required by applicable law or agreed to in writing, software\n",
              "// distributed under the License is distributed on an \"AS IS\" BASIS,\n",
              "// WITHOUT WARRANTIES OR CONDITIONS OF ANY KIND, either express or implied.\n",
              "// See the License for the specific language governing permissions and\n",
              "// limitations under the License.\n",
              "\n",
              "/**\n",
              " * @fileoverview Helpers for google.colab Python module.\n",
              " */\n",
              "(function(scope) {\n",
              "function span(text, styleAttributes = {}) {\n",
              "  const element = document.createElement('span');\n",
              "  element.textContent = text;\n",
              "  for (const key of Object.keys(styleAttributes)) {\n",
              "    element.style[key] = styleAttributes[key];\n",
              "  }\n",
              "  return element;\n",
              "}\n",
              "\n",
              "// Max number of bytes which will be uploaded at a time.\n",
              "const MAX_PAYLOAD_SIZE = 100 * 1024;\n",
              "\n",
              "function _uploadFiles(inputId, outputId) {\n",
              "  const steps = uploadFilesStep(inputId, outputId);\n",
              "  const outputElement = document.getElementById(outputId);\n",
              "  // Cache steps on the outputElement to make it available for the next call\n",
              "  // to uploadFilesContinue from Python.\n",
              "  outputElement.steps = steps;\n",
              "\n",
              "  return _uploadFilesContinue(outputId);\n",
              "}\n",
              "\n",
              "// This is roughly an async generator (not supported in the browser yet),\n",
              "// where there are multiple asynchronous steps and the Python side is going\n",
              "// to poll for completion of each step.\n",
              "// This uses a Promise to block the python side on completion of each step,\n",
              "// then passes the result of the previous step as the input to the next step.\n",
              "function _uploadFilesContinue(outputId) {\n",
              "  const outputElement = document.getElementById(outputId);\n",
              "  const steps = outputElement.steps;\n",
              "\n",
              "  const next = steps.next(outputElement.lastPromiseValue);\n",
              "  return Promise.resolve(next.value.promise).then((value) => {\n",
              "    // Cache the last promise value to make it available to the next\n",
              "    // step of the generator.\n",
              "    outputElement.lastPromiseValue = value;\n",
              "    return next.value.response;\n",
              "  });\n",
              "}\n",
              "\n",
              "/**\n",
              " * Generator function which is called between each async step of the upload\n",
              " * process.\n",
              " * @param {string} inputId Element ID of the input file picker element.\n",
              " * @param {string} outputId Element ID of the output display.\n",
              " * @return {!Iterable<!Object>} Iterable of next steps.\n",
              " */\n",
              "function* uploadFilesStep(inputId, outputId) {\n",
              "  const inputElement = document.getElementById(inputId);\n",
              "  inputElement.disabled = false;\n",
              "\n",
              "  const outputElement = document.getElementById(outputId);\n",
              "  outputElement.innerHTML = '';\n",
              "\n",
              "  const pickedPromise = new Promise((resolve) => {\n",
              "    inputElement.addEventListener('change', (e) => {\n",
              "      resolve(e.target.files);\n",
              "    });\n",
              "  });\n",
              "\n",
              "  const cancel = document.createElement('button');\n",
              "  inputElement.parentElement.appendChild(cancel);\n",
              "  cancel.textContent = 'Cancel upload';\n",
              "  const cancelPromise = new Promise((resolve) => {\n",
              "    cancel.onclick = () => {\n",
              "      resolve(null);\n",
              "    };\n",
              "  });\n",
              "\n",
              "  // Wait for the user to pick the files.\n",
              "  const files = yield {\n",
              "    promise: Promise.race([pickedPromise, cancelPromise]),\n",
              "    response: {\n",
              "      action: 'starting',\n",
              "    }\n",
              "  };\n",
              "\n",
              "  cancel.remove();\n",
              "\n",
              "  // Disable the input element since further picks are not allowed.\n",
              "  inputElement.disabled = true;\n",
              "\n",
              "  if (!files) {\n",
              "    return {\n",
              "      response: {\n",
              "        action: 'complete',\n",
              "      }\n",
              "    };\n",
              "  }\n",
              "\n",
              "  for (const file of files) {\n",
              "    const li = document.createElement('li');\n",
              "    li.append(span(file.name, {fontWeight: 'bold'}));\n",
              "    li.append(span(\n",
              "        `(${file.type || 'n/a'}) - ${file.size} bytes, ` +\n",
              "        `last modified: ${\n",
              "            file.lastModifiedDate ? file.lastModifiedDate.toLocaleDateString() :\n",
              "                                    'n/a'} - `));\n",
              "    const percent = span('0% done');\n",
              "    li.appendChild(percent);\n",
              "\n",
              "    outputElement.appendChild(li);\n",
              "\n",
              "    const fileDataPromise = new Promise((resolve) => {\n",
              "      const reader = new FileReader();\n",
              "      reader.onload = (e) => {\n",
              "        resolve(e.target.result);\n",
              "      };\n",
              "      reader.readAsArrayBuffer(file);\n",
              "    });\n",
              "    // Wait for the data to be ready.\n",
              "    let fileData = yield {\n",
              "      promise: fileDataPromise,\n",
              "      response: {\n",
              "        action: 'continue',\n",
              "      }\n",
              "    };\n",
              "\n",
              "    // Use a chunked sending to avoid message size limits. See b/62115660.\n",
              "    let position = 0;\n",
              "    do {\n",
              "      const length = Math.min(fileData.byteLength - position, MAX_PAYLOAD_SIZE);\n",
              "      const chunk = new Uint8Array(fileData, position, length);\n",
              "      position += length;\n",
              "\n",
              "      const base64 = btoa(String.fromCharCode.apply(null, chunk));\n",
              "      yield {\n",
              "        response: {\n",
              "          action: 'append',\n",
              "          file: file.name,\n",
              "          data: base64,\n",
              "        },\n",
              "      };\n",
              "\n",
              "      let percentDone = fileData.byteLength === 0 ?\n",
              "          100 :\n",
              "          Math.round((position / fileData.byteLength) * 100);\n",
              "      percent.textContent = `${percentDone}% done`;\n",
              "\n",
              "    } while (position < fileData.byteLength);\n",
              "  }\n",
              "\n",
              "  // All done.\n",
              "  yield {\n",
              "    response: {\n",
              "      action: 'complete',\n",
              "    }\n",
              "  };\n",
              "}\n",
              "\n",
              "scope.google = scope.google || {};\n",
              "scope.google.colab = scope.google.colab || {};\n",
              "scope.google.colab._files = {\n",
              "  _uploadFiles,\n",
              "  _uploadFilesContinue,\n",
              "};\n",
              "})(self);\n",
              "</script> "
            ]
          },
          "metadata": {}
        },
        {
          "output_type": "stream",
          "name": "stdout",
          "text": [
            "Saving inspection2023_Ver2.csv to inspection2023_Ver2 (1).csv\n"
          ]
        }
      ]
    },
    {
      "cell_type": "code",
      "source": [
        "df.head()"
      ],
      "metadata": {
        "colab": {
          "base_uri": "https://localhost:8080/",
          "height": 768
        },
        "id": "0v8JLCaXOHll",
        "outputId": "45c346e0-3a10-4a5b-cf0f-3b171876037e"
      },
      "execution_count": null,
      "outputs": [
        {
          "output_type": "execute_result",
          "data": {
            "text/plain": [
              "      CAMIS                  DBA      BORO BUILDING                 STREET  \\\n",
              "0  50088158         XIANG HOTPOT  Brooklyn     5816  FORT HAMILTON PARKWAY   \n",
              "1  50131276         WHATSUP CAFE  Brooklyn     6609  FORT HAMILTON PARKWAY   \n",
              "2  50052708           PARC OASIS  Brooklyn     6403              11 AVENUE   \n",
              "3  41028194           SAI'S CAFE  Brooklyn     6003  FORT HAMILTON PARKWAY   \n",
              "4  50049290  ORCHIDEA RESTAURANT  Brooklyn     4815              12 AVENUE   \n",
              "\n",
              "   ZIPCODE       PHONE       CUISINE DESCRIPTION INSPECTION DATE  \\\n",
              "0    11219  7188515888                   Chinese      2023-02-13   \n",
              "1    11219  7187907666        Asian/Asian Fusion      2023-03-23   \n",
              "2    11219  9292922010                   Seafood      2023-02-23   \n",
              "3    11219  6463611524  Bakery Products/Desserts      2023-02-28   \n",
              "4    11219  7186867500             Jewish/Kosher      2023-02-06   \n",
              "\n",
              "                                            ACTION  ...      pop_sqkm  \\\n",
              "0  Violations were cited in the following area(s).  ...  13647.151487   \n",
              "1  Violations were cited in the following area(s).  ...  13647.151487   \n",
              "2  Violations were cited in the following area(s).  ...  13647.151487   \n",
              "3  Violations were cited in the following area(s).  ...  13647.151487   \n",
              "4  Violations were cited in the following area(s).  ...  13647.151487   \n",
              "\n",
              "  num_crime_in2021 Hispanic or Latino     white Black or African American  \\\n",
              "0             1930           0.123917  0.605269                  0.012608   \n",
              "1             1930           0.123917  0.605269                  0.012608   \n",
              "2             1930           0.123917  0.605269                  0.012608   \n",
              "3             1930           0.123917  0.605269                  0.012608   \n",
              "4             1930           0.123917  0.605269                  0.012608   \n",
              "\n",
              "  American Indian   Asian Hawaiian     other     new_cuisine  \n",
              "0        0.001138  0.2347      0.0  0.016946         Chinese  \n",
              "1        0.001138  0.2347      0.0  0.016946           Asian  \n",
              "2        0.001138  0.2347      0.0  0.016946            Meat  \n",
              "3        0.001138  0.2347      0.0  0.016946  Bakery/Dessert  \n",
              "4        0.001138  0.2347      0.0  0.016946          Jewish  \n",
              "\n",
              "[5 rows x 45 columns]"
            ],
            "text/html": [
              "\n",
              "  <div id=\"df-609d03f3-2fc3-4d3b-bcfd-d76cbcaa6006\">\n",
              "    <div class=\"colab-df-container\">\n",
              "      <div>\n",
              "<style scoped>\n",
              "    .dataframe tbody tr th:only-of-type {\n",
              "        vertical-align: middle;\n",
              "    }\n",
              "\n",
              "    .dataframe tbody tr th {\n",
              "        vertical-align: top;\n",
              "    }\n",
              "\n",
              "    .dataframe thead th {\n",
              "        text-align: right;\n",
              "    }\n",
              "</style>\n",
              "<table border=\"1\" class=\"dataframe\">\n",
              "  <thead>\n",
              "    <tr style=\"text-align: right;\">\n",
              "      <th></th>\n",
              "      <th>CAMIS</th>\n",
              "      <th>DBA</th>\n",
              "      <th>BORO</th>\n",
              "      <th>BUILDING</th>\n",
              "      <th>STREET</th>\n",
              "      <th>ZIPCODE</th>\n",
              "      <th>PHONE</th>\n",
              "      <th>CUISINE DESCRIPTION</th>\n",
              "      <th>INSPECTION DATE</th>\n",
              "      <th>ACTION</th>\n",
              "      <th>...</th>\n",
              "      <th>pop_sqkm</th>\n",
              "      <th>num_crime_in2021</th>\n",
              "      <th>Hispanic or Latino</th>\n",
              "      <th>white</th>\n",
              "      <th>Black or African American</th>\n",
              "      <th>American Indian</th>\n",
              "      <th>Asian</th>\n",
              "      <th>Hawaiian</th>\n",
              "      <th>other</th>\n",
              "      <th>new_cuisine</th>\n",
              "    </tr>\n",
              "  </thead>\n",
              "  <tbody>\n",
              "    <tr>\n",
              "      <th>0</th>\n",
              "      <td>50088158</td>\n",
              "      <td>XIANG HOTPOT</td>\n",
              "      <td>Brooklyn</td>\n",
              "      <td>5816</td>\n",
              "      <td>FORT HAMILTON PARKWAY</td>\n",
              "      <td>11219</td>\n",
              "      <td>7188515888</td>\n",
              "      <td>Chinese</td>\n",
              "      <td>2023-02-13</td>\n",
              "      <td>Violations were cited in the following area(s).</td>\n",
              "      <td>...</td>\n",
              "      <td>13647.151487</td>\n",
              "      <td>1930</td>\n",
              "      <td>0.123917</td>\n",
              "      <td>0.605269</td>\n",
              "      <td>0.012608</td>\n",
              "      <td>0.001138</td>\n",
              "      <td>0.2347</td>\n",
              "      <td>0.0</td>\n",
              "      <td>0.016946</td>\n",
              "      <td>Chinese</td>\n",
              "    </tr>\n",
              "    <tr>\n",
              "      <th>1</th>\n",
              "      <td>50131276</td>\n",
              "      <td>WHATSUP CAFE</td>\n",
              "      <td>Brooklyn</td>\n",
              "      <td>6609</td>\n",
              "      <td>FORT HAMILTON PARKWAY</td>\n",
              "      <td>11219</td>\n",
              "      <td>7187907666</td>\n",
              "      <td>Asian/Asian Fusion</td>\n",
              "      <td>2023-03-23</td>\n",
              "      <td>Violations were cited in the following area(s).</td>\n",
              "      <td>...</td>\n",
              "      <td>13647.151487</td>\n",
              "      <td>1930</td>\n",
              "      <td>0.123917</td>\n",
              "      <td>0.605269</td>\n",
              "      <td>0.012608</td>\n",
              "      <td>0.001138</td>\n",
              "      <td>0.2347</td>\n",
              "      <td>0.0</td>\n",
              "      <td>0.016946</td>\n",
              "      <td>Asian</td>\n",
              "    </tr>\n",
              "    <tr>\n",
              "      <th>2</th>\n",
              "      <td>50052708</td>\n",
              "      <td>PARC OASIS</td>\n",
              "      <td>Brooklyn</td>\n",
              "      <td>6403</td>\n",
              "      <td>11 AVENUE</td>\n",
              "      <td>11219</td>\n",
              "      <td>9292922010</td>\n",
              "      <td>Seafood</td>\n",
              "      <td>2023-02-23</td>\n",
              "      <td>Violations were cited in the following area(s).</td>\n",
              "      <td>...</td>\n",
              "      <td>13647.151487</td>\n",
              "      <td>1930</td>\n",
              "      <td>0.123917</td>\n",
              "      <td>0.605269</td>\n",
              "      <td>0.012608</td>\n",
              "      <td>0.001138</td>\n",
              "      <td>0.2347</td>\n",
              "      <td>0.0</td>\n",
              "      <td>0.016946</td>\n",
              "      <td>Meat</td>\n",
              "    </tr>\n",
              "    <tr>\n",
              "      <th>3</th>\n",
              "      <td>41028194</td>\n",
              "      <td>SAI'S CAFE</td>\n",
              "      <td>Brooklyn</td>\n",
              "      <td>6003</td>\n",
              "      <td>FORT HAMILTON PARKWAY</td>\n",
              "      <td>11219</td>\n",
              "      <td>6463611524</td>\n",
              "      <td>Bakery Products/Desserts</td>\n",
              "      <td>2023-02-28</td>\n",
              "      <td>Violations were cited in the following area(s).</td>\n",
              "      <td>...</td>\n",
              "      <td>13647.151487</td>\n",
              "      <td>1930</td>\n",
              "      <td>0.123917</td>\n",
              "      <td>0.605269</td>\n",
              "      <td>0.012608</td>\n",
              "      <td>0.001138</td>\n",
              "      <td>0.2347</td>\n",
              "      <td>0.0</td>\n",
              "      <td>0.016946</td>\n",
              "      <td>Bakery/Dessert</td>\n",
              "    </tr>\n",
              "    <tr>\n",
              "      <th>4</th>\n",
              "      <td>50049290</td>\n",
              "      <td>ORCHIDEA RESTAURANT</td>\n",
              "      <td>Brooklyn</td>\n",
              "      <td>4815</td>\n",
              "      <td>12 AVENUE</td>\n",
              "      <td>11219</td>\n",
              "      <td>7186867500</td>\n",
              "      <td>Jewish/Kosher</td>\n",
              "      <td>2023-02-06</td>\n",
              "      <td>Violations were cited in the following area(s).</td>\n",
              "      <td>...</td>\n",
              "      <td>13647.151487</td>\n",
              "      <td>1930</td>\n",
              "      <td>0.123917</td>\n",
              "      <td>0.605269</td>\n",
              "      <td>0.012608</td>\n",
              "      <td>0.001138</td>\n",
              "      <td>0.2347</td>\n",
              "      <td>0.0</td>\n",
              "      <td>0.016946</td>\n",
              "      <td>Jewish</td>\n",
              "    </tr>\n",
              "  </tbody>\n",
              "</table>\n",
              "<p>5 rows × 45 columns</p>\n",
              "</div>\n",
              "      <button class=\"colab-df-convert\" onclick=\"convertToInteractive('df-609d03f3-2fc3-4d3b-bcfd-d76cbcaa6006')\"\n",
              "              title=\"Convert this dataframe to an interactive table.\"\n",
              "              style=\"display:none;\">\n",
              "        \n",
              "  <svg xmlns=\"http://www.w3.org/2000/svg\" height=\"24px\"viewBox=\"0 0 24 24\"\n",
              "       width=\"24px\">\n",
              "    <path d=\"M0 0h24v24H0V0z\" fill=\"none\"/>\n",
              "    <path d=\"M18.56 5.44l.94 2.06.94-2.06 2.06-.94-2.06-.94-.94-2.06-.94 2.06-2.06.94zm-11 1L8.5 8.5l.94-2.06 2.06-.94-2.06-.94L8.5 2.5l-.94 2.06-2.06.94zm10 10l.94 2.06.94-2.06 2.06-.94-2.06-.94-.94-2.06-.94 2.06-2.06.94z\"/><path d=\"M17.41 7.96l-1.37-1.37c-.4-.4-.92-.59-1.43-.59-.52 0-1.04.2-1.43.59L10.3 9.45l-7.72 7.72c-.78.78-.78 2.05 0 2.83L4 21.41c.39.39.9.59 1.41.59.51 0 1.02-.2 1.41-.59l7.78-7.78 2.81-2.81c.8-.78.8-2.07 0-2.86zM5.41 20L4 18.59l7.72-7.72 1.47 1.35L5.41 20z\"/>\n",
              "  </svg>\n",
              "      </button>\n",
              "      \n",
              "  <style>\n",
              "    .colab-df-container {\n",
              "      display:flex;\n",
              "      flex-wrap:wrap;\n",
              "      gap: 12px;\n",
              "    }\n",
              "\n",
              "    .colab-df-convert {\n",
              "      background-color: #E8F0FE;\n",
              "      border: none;\n",
              "      border-radius: 50%;\n",
              "      cursor: pointer;\n",
              "      display: none;\n",
              "      fill: #1967D2;\n",
              "      height: 32px;\n",
              "      padding: 0 0 0 0;\n",
              "      width: 32px;\n",
              "    }\n",
              "\n",
              "    .colab-df-convert:hover {\n",
              "      background-color: #E2EBFA;\n",
              "      box-shadow: 0px 1px 2px rgba(60, 64, 67, 0.3), 0px 1px 3px 1px rgba(60, 64, 67, 0.15);\n",
              "      fill: #174EA6;\n",
              "    }\n",
              "\n",
              "    [theme=dark] .colab-df-convert {\n",
              "      background-color: #3B4455;\n",
              "      fill: #D2E3FC;\n",
              "    }\n",
              "\n",
              "    [theme=dark] .colab-df-convert:hover {\n",
              "      background-color: #434B5C;\n",
              "      box-shadow: 0px 1px 3px 1px rgba(0, 0, 0, 0.15);\n",
              "      filter: drop-shadow(0px 1px 2px rgba(0, 0, 0, 0.3));\n",
              "      fill: #FFFFFF;\n",
              "    }\n",
              "  </style>\n",
              "\n",
              "      <script>\n",
              "        const buttonEl =\n",
              "          document.querySelector('#df-609d03f3-2fc3-4d3b-bcfd-d76cbcaa6006 button.colab-df-convert');\n",
              "        buttonEl.style.display =\n",
              "          google.colab.kernel.accessAllowed ? 'block' : 'none';\n",
              "\n",
              "        async function convertToInteractive(key) {\n",
              "          const element = document.querySelector('#df-609d03f3-2fc3-4d3b-bcfd-d76cbcaa6006');\n",
              "          const dataTable =\n",
              "            await google.colab.kernel.invokeFunction('convertToInteractive',\n",
              "                                                     [key], {});\n",
              "          if (!dataTable) return;\n",
              "\n",
              "          const docLinkHtml = 'Like what you see? Visit the ' +\n",
              "            '<a target=\"_blank\" href=https://colab.research.google.com/notebooks/data_table.ipynb>data table notebook</a>'\n",
              "            + ' to learn more about interactive tables.';\n",
              "          element.innerHTML = '';\n",
              "          dataTable['output_type'] = 'display_data';\n",
              "          await google.colab.output.renderOutput(dataTable, element);\n",
              "          const docLink = document.createElement('div');\n",
              "          docLink.innerHTML = docLinkHtml;\n",
              "          element.appendChild(docLink);\n",
              "        }\n",
              "      </script>\n",
              "    </div>\n",
              "  </div>\n",
              "  "
            ]
          },
          "metadata": {},
          "execution_count": 37
        }
      ]
    },
    {
      "cell_type": "code",
      "source": [
        "df.shape"
      ],
      "metadata": {
        "colab": {
          "base_uri": "https://localhost:8080/"
        },
        "id": "xAYD-vHKOLg-",
        "outputId": "9447f476-9dde-453c-93fb-411e168e5131"
      },
      "execution_count": null,
      "outputs": [
        {
          "output_type": "execute_result",
          "data": {
            "text/plain": [
              "(9259, 45)"
            ]
          },
          "metadata": {},
          "execution_count": 5
        }
      ]
    },
    {
      "cell_type": "code",
      "source": [
        "df.columns"
      ],
      "metadata": {
        "colab": {
          "base_uri": "https://localhost:8080/"
        },
        "id": "0_SpaKaPOrxz",
        "outputId": "ba7dada5-b9e2-49e8-e268-011e2f425c68"
      },
      "execution_count": null,
      "outputs": [
        {
          "output_type": "execute_result",
          "data": {
            "text/plain": [
              "Index(['CAMIS', 'DBA', 'BORO', 'BUILDING', 'STREET', 'ZIPCODE', 'PHONE',\n",
              "       'CUISINE DESCRIPTION', 'INSPECTION DATE', 'ACTION', 'VIOLATION CODE',\n",
              "       'VIOLATION DESCRIPTION', 'CRITICAL FLAG', 'SCORE', 'GRADE',\n",
              "       'GRADE DATE', 'RECORD DATE', 'INSPECTION TYPE', 'Latitude', 'Longitude',\n",
              "       'Community Board', 'Council District', 'Census Tract', 'BIN', 'BBL',\n",
              "       'NTA', 'Location Point1', 'cuisine', 'num_foodDO', 'median income',\n",
              "       'pop_over25', 'bachelor_higher', 'prop_bachelor', 'POPULATION',\n",
              "       'area_sqkm', 'pop_sqkm', 'num_crime_in2021', 'Hispanic or Latino',\n",
              "       'white', 'Black or African American', 'American Indian', 'Asian',\n",
              "       'Hawaiian', 'other', 'new_cuisine'],\n",
              "      dtype='object')"
            ]
          },
          "metadata": {},
          "execution_count": 38
        }
      ]
    },
    {
      "cell_type": "code",
      "source": [
        "features = ['num_foodDO','median income','prop_bachelor','pop_sqkm','num_crime_in2021','Hispanic or Latino','white', 'Black or African American', 'American Indian', 'Asian','Hawaiian', 'other', 'new_cuisine']\n",
        "X = df.loc[:,features]\n",
        "Y = df['GRADE']\n",
        "\n",
        "X = pd.get_dummies(X, columns=['new_cuisine'])\n",
        "\n",
        "print(X.shape)\n",
        "print(Y.shape)"
      ],
      "metadata": {
        "colab": {
          "base_uri": "https://localhost:8080/"
        },
        "id": "0ANVdrfQOwUk",
        "outputId": "783a4ad2-db09-46d1-c45b-2019eb8851d6"
      },
      "execution_count": null,
      "outputs": [
        {
          "output_type": "stream",
          "name": "stdout",
          "text": [
            "(9259, 70)\n",
            "(9259,)\n"
          ]
        }
      ]
    },
    {
      "cell_type": "code",
      "source": [
        "from sklearn.preprocessing import StandardScaler\n",
        "\n",
        "cont_features = X.loc[:,'num_foodDO':'other']\n",
        "dummies = X.loc[:,'new_cuisine_Afghan':]\n",
        "cols = cont_features.columns\n",
        "\n",
        "scaler = StandardScaler()\n",
        "stand = scaler.fit_transform(cont_features)\n",
        "stand_features = pd.DataFrame(stand, columns=cols)\n",
        "\n",
        "X_standard = pd.concat([stand_features,dummies], axis=1)"
      ],
      "metadata": {
        "id": "N62bJNwKO1IQ"
      },
      "execution_count": null,
      "outputs": []
    },
    {
      "cell_type": "code",
      "source": [
        "X_train, X_test, y_train, y_test = train_test_split(X_standard, Y, test_size=0.2)"
      ],
      "metadata": {
        "id": "ywIbqWZ7O7DN"
      },
      "execution_count": null,
      "outputs": []
    },
    {
      "cell_type": "code",
      "source": [
        "knn = KNeighborsClassifier(n_neighbors = 3)\n",
        "knn.fit(X_train, y_train)\n",
        "y_pred = knn.predict(X_test)\n",
        "acc = accuracy_score(y_test, y_pred)"
      ],
      "metadata": {
        "id": "E5lrIG0eRC22"
      },
      "execution_count": null,
      "outputs": []
    },
    {
      "cell_type": "code",
      "source": [
        "print('The accuracy score for KNN is', acc)"
      ],
      "metadata": {
        "colab": {
          "base_uri": "https://localhost:8080/"
        },
        "id": "dA5h8uEQRx35",
        "outputId": "cf34081c-6d67-498c-cb8c-cd0f90380319"
      },
      "execution_count": null,
      "outputs": [
        {
          "output_type": "stream",
          "name": "stdout",
          "text": [
            "The accuracy score for KNN is 0.8131749460043196\n"
          ]
        }
      ]
    },
    {
      "cell_type": "code",
      "source": [
        "k_values = [i for i in range (1,31)]\n",
        "scores = []\n",
        "\n",
        "for k in k_values:\n",
        "    knn = KNeighborsClassifier(n_neighbors=k)\n",
        "    score = cross_val_score(knn, X_train, y_train, cv=5)\n",
        "    scores.append(np.mean(score))"
      ],
      "metadata": {
        "id": "wxChGFqmVsZT"
      },
      "execution_count": null,
      "outputs": []
    },
    {
      "cell_type": "code",
      "source": [
        "plt.plot(k_values, scores, marker = 'o')\n",
        "plt.xlabel(\"K Values\")\n",
        "plt.ylabel(\"Accuracy Score\")"
      ],
      "metadata": {
        "id": "KW50DEUUVpU-",
        "colab": {
          "base_uri": "https://localhost:8080/",
          "height": 467
        },
        "outputId": "70ad56d0-93fc-4c88-e7c2-eeb921107023"
      },
      "execution_count": null,
      "outputs": [
        {
          "output_type": "execute_result",
          "data": {
            "text/plain": [
              "Text(0, 0.5, 'Accuracy Score')"
            ]
          },
          "metadata": {},
          "execution_count": 45
        },
        {
          "output_type": "display_data",
          "data": {
            "text/plain": [
              "<Figure size 640x480 with 1 Axes>"
            ],
            "image/png": "[encoded data removed]"
          },
          "metadata": {}
        }
      ]
    },
    {
      "cell_type": "code",
      "source": [
        "best_index = np.argmax(scores)\n",
        "best_k = k_values[best_index]\n",
        "\n",
        "knn = KNeighborsClassifier(n_neighbors=best_k)\n",
        "knn.fit(X_train, y_train)"
      ],
      "metadata": {
        "colab": {
          "base_uri": "https://localhost:8080/",
          "height": 75
        },
        "id": "NsQmTHjWVtJT",
        "outputId": "0e054dde-b60e-4a39-baf9-c86ccd45d989"
      },
      "execution_count": null,
      "outputs": [
        {
          "output_type": "execute_result",
          "data": {
            "text/plain": [
              "KNeighborsClassifier(n_neighbors=50)"
            ],
            "text/html": [
              "<style>#sk-container-id-4 {color: black;background-color: white;}#sk-container-id-4 pre{padding: 0;}#sk-container-id-4 div.sk-toggleable {background-color: white;}#sk-container-id-4 label.sk-toggleable__label {cursor: pointer;display: block;width: 100%;margin-bottom: 0;padding: 0.3em;box-sizing: border-box;text-align: center;}#sk-container-id-4 label.sk-toggleable__label-arrow:before {content: \"▸\";float: left;margin-right: 0.25em;color: #696969;}#sk-container-id-4 label.sk-toggleable__label-arrow:hover:before {color: black;}#sk-container-id-4 div.sk-estimator:hover label.sk-toggleable__label-arrow:before {color: black;}#sk-container-id-4 div.sk-toggleable__content {max-height: 0;max-width: 0;overflow: hidden;text-align: left;background-color: #f0f8ff;}#sk-container-id-4 div.sk-toggleable__content pre {margin: 0.2em;color: black;border-radius: 0.25em;background-color: #f0f8ff;}#sk-container-id-4 input.sk-toggleable__control:checked~div.sk-toggleable__content {max-height: 200px;max-width: 100%;overflow: auto;}#sk-container-id-4 input.sk-toggleable__control:checked~label.sk-toggleable__label-arrow:before {content: \"▾\";}#sk-container-id-4 div.sk-estimator input.sk-toggleable__control:checked~label.sk-toggleable__label {background-color: #d4ebff;}#sk-container-id-4 div.sk-label input.sk-toggleable__control:checked~label.sk-toggleable__label {background-color: #d4ebff;}#sk-container-id-4 input.sk-hidden--visually {border: 0;clip: rect(1px 1px 1px 1px);clip: rect(1px, 1px, 1px, 1px);height: 1px;margin: -1px;overflow: hidden;padding: 0;position: absolute;width: 1px;}#sk-container-id-4 div.sk-estimator {font-family: monospace;background-color: #f0f8ff;border: 1px dotted black;border-radius: 0.25em;box-sizing: border-box;margin-bottom: 0.5em;}#sk-container-id-4 div.sk-estimator:hover {background-color: #d4ebff;}#sk-container-id-4 div.sk-parallel-item::after {content: \"\";width: 100%;border-bottom: 1px solid gray;flex-grow: 1;}#sk-container-id-4 div.sk-label:hover label.sk-toggleable__label {background-color: #d4ebff;}#sk-container-id-4 div.sk-serial::before {content: \"\";position: absolute;border-left: 1px solid gray;box-sizing: border-box;top: 0;bottom: 0;left: 50%;z-index: 0;}#sk-container-id-4 div.sk-serial {display: flex;flex-direction: column;align-items: center;background-color: white;padding-right: 0.2em;padding-left: 0.2em;position: relative;}#sk-container-id-4 div.sk-item {position: relative;z-index: 1;}#sk-container-id-4 div.sk-parallel {display: flex;align-items: stretch;justify-content: center;background-color: white;position: relative;}#sk-container-id-4 div.sk-item::before, #sk-container-id-4 div.sk-parallel-item::before {content: \"\";position: absolute;border-left: 1px solid gray;box-sizing: border-box;top: 0;bottom: 0;left: 50%;z-index: -1;}#sk-container-id-4 div.sk-parallel-item {display: flex;flex-direction: column;z-index: 1;position: relative;background-color: white;}#sk-container-id-4 div.sk-parallel-item:first-child::after {align-self: flex-end;width: 50%;}#sk-container-id-4 div.sk-parallel-item:last-child::after {align-self: flex-start;width: 50%;}#sk-container-id-4 div.sk-parallel-item:only-child::after {width: 0;}#sk-container-id-4 div.sk-dashed-wrapped {border: 1px dashed gray;margin: 0 0.4em 0.5em 0.4em;box-sizing: border-box;padding-bottom: 0.4em;background-color: white;}#sk-container-id-4 div.sk-label label {font-family: monospace;font-weight: bold;display: inline-block;line-height: 1.2em;}#sk-container-id-4 div.sk-label-container {text-align: center;}#sk-container-id-4 div.sk-container {/* jupyter's `normalize.less` sets `[hidden] { display: none; }` but bootstrap.min.css set `[hidden] { display: none !important; }` so we also need the `!important` here to be able to override the default hidden behavior on the sphinx rendered scikit-learn.org. See: https://github.com/scikit-learn/scikit-learn/issues/21755 */display: inline-block !important;position: relative;}#sk-container-id-4 div.sk-text-repr-fallback {display: none;}</style><div id=\"sk-container-id-4\" class=\"sk-top-container\"><div class=\"sk-text-repr-fallback\"><pre>KNeighborsClassifier(n_neighbors=50)</pre><b>In a Jupyter environment, please rerun this cell to show the HTML representation or trust the notebook. <br />On GitHub, the HTML representation is unable to render, please try loading this page with nbviewer.org.</b></div><div class=\"sk-container\" hidden><div class=\"sk-item\"><div class=\"sk-estimator sk-toggleable\"><input class=\"sk-toggleable__control sk-hidden--visually\" id=\"sk-estimator-id-4\" type=\"checkbox\" checked><label for=\"sk-estimator-id-4\" class=\"sk-toggleable__label sk-toggleable__label-arrow\">KNeighborsClassifier</label><div class=\"sk-toggleable__content\"><pre>KNeighborsClassifier(n_neighbors=50)</pre></div></div></div></div></div>"
            ]
          },
          "metadata": {},
          "execution_count": 54
        }
      ]
    },
    {
      "cell_type": "code",
      "source": [
        "y_pred = knn.predict(X_test)\n",
        "acc = accuracy_score(y_test, y_pred)\n",
        "print('The accuracy score for KNN is', acc)"
      ],
      "metadata": {
        "id": "KUEp78S7VuCD",
        "colab": {
          "base_uri": "https://localhost:8080/"
        },
        "outputId": "0a6ddbb2-ab77-4f26-f729-9c9bf8b9e6da"
      },
      "execution_count": null,
      "outputs": [
        {
          "output_type": "stream",
          "name": "stdout",
          "text": [
            "The accuracy score for KNN is 0.8218142548596112\n"
          ]
        }
      ]
    },
    {
      "cell_type": "code",
      "source": [
        "best_k"
      ],
      "metadata": {
        "colab": {
          "base_uri": "https://localhost:8080/"
        },
        "id": "gIhX4wk00gKk",
        "outputId": "156f4485-bfd0-4d4b-dd48-c70a2394908a"
      },
      "execution_count": null,
      "outputs": [
        {
          "output_type": "execute_result",
          "data": {
            "text/plain": [
              "2"
            ]
          },
          "metadata": {},
          "execution_count": 48
        }
      ]
    },
    {
      "cell_type": "code",
      "source": [
        "print(classification_report(y_test, y_pred))"
      ],
      "metadata": {
        "colab": {
          "base_uri": "https://localhost:8080/"
        },
        "id": "JgyFKvn_0wQT",
        "outputId": "ec35b526-a6d9-4969-ff43-36179004e093"
      },
      "execution_count": null,
      "outputs": [
        {
          "output_type": "stream",
          "name": "stdout",
          "text": [
            "              precision    recall  f1-score   support\n",
            "\n",
            "           A       0.85      0.96      0.90      1440\n",
            "           B       0.63      0.35      0.45       265\n",
            "           C       0.63      0.35      0.45       147\n",
            "\n",
            "    accuracy                           0.82      1852\n",
            "   macro avg       0.70      0.55      0.60      1852\n",
            "weighted avg       0.80      0.82      0.80      1852\n",
            "\n"
          ]
        }
      ]
    },
    {
      "cell_type": "code",
      "source": [
        "from sklearn.inspection import permutation_importance\n",
        "\n",
        "result = permutation_importance(knn, X_test, y_test, n_repeats=10, random_state=42)\n",
        "importances = result.importances_mean\n",
        "\n",
        "feature_importances = dict(zip(X.columns, importances))\n",
        "\n",
        "sorted_importances = sorted(feature_importances.items(), key=lambda x: abs(x[1]), reverse=True)\n",
        "\n",
        "print(\"Top 10 most important features:\")\n",
        "for feature, importance in sorted_importances[:10]:\n",
        "    print(f\"{feature}: {importance}\")"
      ],
      "metadata": {
        "colab": {
          "base_uri": "https://localhost:8080/"
        },
        "id": "YL5VN67J2Im-",
        "outputId": "029b7862-04c3-41ec-db1c-21a8043875a4"
      },
      "execution_count": null,
      "outputs": [
        {
          "output_type": "stream",
          "name": "stdout",
          "text": [
            "Top 10 most important features:\n",
            "median income: 0.0026997840172786392\n",
            "American Indian: 0.002699784017278617\n",
            "Black or African American: 0.002537796976241924\n",
            "new_cuisine_Fast Food: 0.0023218142548596223\n",
            "pop_sqkm: 0.002159827213822907\n",
            "prop_bachelor: 0.0021058315334773316\n",
            "Asian: 0.0019438444924406272\n",
            "num_crime_in2021: 0.001781857451403901\n",
            "white: 0.0016198704103671524\n",
            "num_foodDO: 0.001565874730021588\n"
          ]
        }
      ]
    },
    {
      "cell_type": "code",
      "source": [
        "from imblearn.over_sampling import SMOTE\n",
        "\n",
        "sm = SMOTE(random_state=42)\n",
        "X_train_res, y_train_res = sm.fit_resample(X_train, y_train)\n",
        "\n",
        "knn = KNeighborsClassifier(n_neighbors=best_k)\n",
        "knn.fit(X_train_res, y_train_res)\n",
        "\n",
        "y_pred = knn.predict(X_test)\n",
        "acc = accuracy_score(y_test, y_pred)\n",
        "print('The accuracy score for KNN is', acc)"
      ],
      "metadata": {
        "colab": {
          "base_uri": "https://localhost:8080/"
        },
        "id": "yIfriON93dLy",
        "outputId": "6ab93c79-96c5-4593-ba9f-41a9c512700c"
      },
      "execution_count": null,
      "outputs": [
        {
          "output_type": "stream",
          "name": "stdout",
          "text": [
            "The accuracy score for KNN is 0.5431965442764579\n"
          ]
        }
      ]
    },
    {
      "cell_type": "code",
      "source": [
        "print(classification_report(y_test, y_pred))"
      ],
      "metadata": {
        "colab": {
          "base_uri": "https://localhost:8080/"
        },
        "id": "x1WIA4Vr8bw5",
        "outputId": "c444b4a0-72da-4876-afc5-741f514cf035"
      },
      "execution_count": null,
      "outputs": [
        {
          "output_type": "stream",
          "name": "stdout",
          "text": [
            "              precision    recall  f1-score   support\n",
            "\n",
            "           A       0.90      0.50      0.64      1440\n",
            "           B       0.28      0.67      0.39       265\n",
            "           C       0.26      0.73      0.39       147\n",
            "\n",
            "    accuracy                           0.54      1852\n",
            "   macro avg       0.48      0.64      0.47      1852\n",
            "weighted avg       0.76      0.54      0.59      1852\n",
            "\n"
          ]
        }
      ]
    },
    {
      "cell_type": "code",
      "source": [],
      "metadata": {
        "id": "CQgrGAZx8qkU"
      },
      "execution_count": null,
      "outputs": []
    }
  ]
}