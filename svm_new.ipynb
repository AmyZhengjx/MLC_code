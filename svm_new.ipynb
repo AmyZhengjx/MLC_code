{
  "cells": [
    {
      "cell_type": "code",
      "execution_count": null,
      "id": "320c2ceb",
      "metadata": {
        "id": "320c2ceb"
      },
      "outputs": [],
      "source": [
        "import pandas as pd\n",
        "import numpy as np"
      ]
    },
    {
      "cell_type": "code",
      "execution_count": null,
      "id": "626107cb",
      "metadata": {
        "id": "626107cb",
        "outputId": "8c6d582b-a647-49e8-b35b-91615af2a69a"
      },
      "outputs": [
        {
          "data": {
            "text/html": [
              "<div>\n",
              "<style scoped>\n",
              "    .dataframe tbody tr th:only-of-type {\n",
              "        vertical-align: middle;\n",
              "    }\n",
              "\n",
              "    .dataframe tbody tr th {\n",
              "        vertical-align: top;\n",
              "    }\n",
              "\n",
              "    .dataframe thead th {\n",
              "        text-align: right;\n",
              "    }\n",
              "</style>\n",
              "<table border=\"1\" class=\"dataframe\">\n",
              "  <thead>\n",
              "    <tr style=\"text-align: right;\">\n",
              "      <th></th>\n",
              "      <th>CAMIS</th>\n",
              "      <th>DBA</th>\n",
              "      <th>BORO</th>\n",
              "      <th>BUILDING</th>\n",
              "      <th>STREET</th>\n",
              "      <th>ZIPCODE</th>\n",
              "      <th>PHONE</th>\n",
              "      <th>CUISINE DESCRIPTION</th>\n",
              "      <th>INSPECTION DATE</th>\n",
              "      <th>ACTION</th>\n",
              "      <th>...</th>\n",
              "      <th>pop_sqkm</th>\n",
              "      <th>num_crime_in2021</th>\n",
              "      <th>Hispanic or Latino</th>\n",
              "      <th>white</th>\n",
              "      <th>Black or African American</th>\n",
              "      <th>American Indian</th>\n",
              "      <th>Asian</th>\n",
              "      <th>Hawaiian</th>\n",
              "      <th>other</th>\n",
              "      <th>new_cuisine</th>\n",
              "    </tr>\n",
              "  </thead>\n",
              "  <tbody>\n",
              "    <tr>\n",
              "      <th>0</th>\n",
              "      <td>50088158</td>\n",
              "      <td>XIANG HOTPOT</td>\n",
              "      <td>Brooklyn</td>\n",
              "      <td>5816</td>\n",
              "      <td>FORT HAMILTON PARKWAY</td>\n",
              "      <td>11219</td>\n",
              "      <td>7188515888</td>\n",
              "      <td>Chinese</td>\n",
              "      <td>2023-02-13</td>\n",
              "      <td>Violations were cited in the following area(s).</td>\n",
              "      <td>...</td>\n",
              "      <td>13647.151487</td>\n",
              "      <td>1930</td>\n",
              "      <td>0.123917</td>\n",
              "      <td>0.605269</td>\n",
              "      <td>0.012608</td>\n",
              "      <td>0.001138</td>\n",
              "      <td>0.2347</td>\n",
              "      <td>0.0</td>\n",
              "      <td>0.016946</td>\n",
              "      <td>Chinese</td>\n",
              "    </tr>\n",
              "    <tr>\n",
              "      <th>1</th>\n",
              "      <td>50131276</td>\n",
              "      <td>WHATSUP CAFE</td>\n",
              "      <td>Brooklyn</td>\n",
              "      <td>6609</td>\n",
              "      <td>FORT HAMILTON PARKWAY</td>\n",
              "      <td>11219</td>\n",
              "      <td>7187907666</td>\n",
              "      <td>Asian/Asian Fusion</td>\n",
              "      <td>2023-03-23</td>\n",
              "      <td>Violations were cited in the following area(s).</td>\n",
              "      <td>...</td>\n",
              "      <td>13647.151487</td>\n",
              "      <td>1930</td>\n",
              "      <td>0.123917</td>\n",
              "      <td>0.605269</td>\n",
              "      <td>0.012608</td>\n",
              "      <td>0.001138</td>\n",
              "      <td>0.2347</td>\n",
              "      <td>0.0</td>\n",
              "      <td>0.016946</td>\n",
              "      <td>Asian</td>\n",
              "    </tr>\n",
              "    <tr>\n",
              "      <th>2</th>\n",
              "      <td>50052708</td>\n",
              "      <td>PARC OASIS</td>\n",
              "      <td>Brooklyn</td>\n",
              "      <td>6403</td>\n",
              "      <td>11 AVENUE</td>\n",
              "      <td>11219</td>\n",
              "      <td>9292922010</td>\n",
              "      <td>Seafood</td>\n",
              "      <td>2023-02-23</td>\n",
              "      <td>Violations were cited in the following area(s).</td>\n",
              "      <td>...</td>\n",
              "      <td>13647.151487</td>\n",
              "      <td>1930</td>\n",
              "      <td>0.123917</td>\n",
              "      <td>0.605269</td>\n",
              "      <td>0.012608</td>\n",
              "      <td>0.001138</td>\n",
              "      <td>0.2347</td>\n",
              "      <td>0.0</td>\n",
              "      <td>0.016946</td>\n",
              "      <td>Meat</td>\n",
              "    </tr>\n",
              "    <tr>\n",
              "      <th>3</th>\n",
              "      <td>41028194</td>\n",
              "      <td>SAI'S CAFE</td>\n",
              "      <td>Brooklyn</td>\n",
              "      <td>6003</td>\n",
              "      <td>FORT HAMILTON PARKWAY</td>\n",
              "      <td>11219</td>\n",
              "      <td>6463611524</td>\n",
              "      <td>Bakery Products/Desserts</td>\n",
              "      <td>2023-02-28</td>\n",
              "      <td>Violations were cited in the following area(s).</td>\n",
              "      <td>...</td>\n",
              "      <td>13647.151487</td>\n",
              "      <td>1930</td>\n",
              "      <td>0.123917</td>\n",
              "      <td>0.605269</td>\n",
              "      <td>0.012608</td>\n",
              "      <td>0.001138</td>\n",
              "      <td>0.2347</td>\n",
              "      <td>0.0</td>\n",
              "      <td>0.016946</td>\n",
              "      <td>Bakery/Dessert</td>\n",
              "    </tr>\n",
              "    <tr>\n",
              "      <th>4</th>\n",
              "      <td>50049290</td>\n",
              "      <td>ORCHIDEA RESTAURANT</td>\n",
              "      <td>Brooklyn</td>\n",
              "      <td>4815</td>\n",
              "      <td>12 AVENUE</td>\n",
              "      <td>11219</td>\n",
              "      <td>7186867500</td>\n",
              "      <td>Jewish/Kosher</td>\n",
              "      <td>2023-02-06</td>\n",
              "      <td>Violations were cited in the following area(s).</td>\n",
              "      <td>...</td>\n",
              "      <td>13647.151487</td>\n",
              "      <td>1930</td>\n",
              "      <td>0.123917</td>\n",
              "      <td>0.605269</td>\n",
              "      <td>0.012608</td>\n",
              "      <td>0.001138</td>\n",
              "      <td>0.2347</td>\n",
              "      <td>0.0</td>\n",
              "      <td>0.016946</td>\n",
              "      <td>Jewish</td>\n",
              "    </tr>\n",
              "  </tbody>\n",
              "</table>\n",
              "<p>5 rows × 45 columns</p>\n",
              "</div>"
            ],
            "text/plain": [
              "      CAMIS                  DBA      BORO BUILDING                 STREET  \\\n",
              "0  50088158         XIANG HOTPOT  Brooklyn     5816  FORT HAMILTON PARKWAY   \n",
              "1  50131276         WHATSUP CAFE  Brooklyn     6609  FORT HAMILTON PARKWAY   \n",
              "2  50052708           PARC OASIS  Brooklyn     6403              11 AVENUE   \n",
              "3  41028194           SAI'S CAFE  Brooklyn     6003  FORT HAMILTON PARKWAY   \n",
              "4  50049290  ORCHIDEA RESTAURANT  Brooklyn     4815              12 AVENUE   \n",
              "\n",
              "   ZIPCODE       PHONE       CUISINE DESCRIPTION INSPECTION DATE  \\\n",
              "0    11219  7188515888                   Chinese      2023-02-13   \n",
              "1    11219  7187907666        Asian/Asian Fusion      2023-03-23   \n",
              "2    11219  9292922010                   Seafood      2023-02-23   \n",
              "3    11219  6463611524  Bakery Products/Desserts      2023-02-28   \n",
              "4    11219  7186867500             Jewish/Kosher      2023-02-06   \n",
              "\n",
              "                                            ACTION  ...      pop_sqkm  \\\n",
              "0  Violations were cited in the following area(s).  ...  13647.151487   \n",
              "1  Violations were cited in the following area(s).  ...  13647.151487   \n",
              "2  Violations were cited in the following area(s).  ...  13647.151487   \n",
              "3  Violations were cited in the following area(s).  ...  13647.151487   \n",
              "4  Violations were cited in the following area(s).  ...  13647.151487   \n",
              "\n",
              "  num_crime_in2021 Hispanic or Latino     white Black or African American  \\\n",
              "0             1930           0.123917  0.605269                  0.012608   \n",
              "1             1930           0.123917  0.605269                  0.012608   \n",
              "2             1930           0.123917  0.605269                  0.012608   \n",
              "3             1930           0.123917  0.605269                  0.012608   \n",
              "4             1930           0.123917  0.605269                  0.012608   \n",
              "\n",
              "  American Indian   Asian Hawaiian     other     new_cuisine  \n",
              "0        0.001138  0.2347      0.0  0.016946         Chinese  \n",
              "1        0.001138  0.2347      0.0  0.016946           Asian  \n",
              "2        0.001138  0.2347      0.0  0.016946            Meat  \n",
              "3        0.001138  0.2347      0.0  0.016946  Bakery/Dessert  \n",
              "4        0.001138  0.2347      0.0  0.016946          Jewish  \n",
              "\n",
              "[5 rows x 45 columns]"
            ]
          },
          "execution_count": 23,
          "metadata": {},
          "output_type": "execute_result"
        }
      ],
      "source": [
        "data=pd.read_csv('/Users/yangerjia/Desktop/inspection2023_Ver2.csv')\n",
        "data.head()"
      ]
    },
    {
      "cell_type": "code",
      "execution_count": null,
      "id": "d3586cf5",
      "metadata": {
        "id": "d3586cf5"
      },
      "outputs": [],
      "source": [
        "from sklearn.model_selection import train_test_split\n",
        "from sklearn.preprocessing import StandardScaler\n",
        "from sklearn.svm import SVC\n",
        "from sklearn.metrics import accuracy_score\n",
        "from sklearn.metrics import classification_report"
      ]
    },
    {
      "cell_type": "code",
      "execution_count": null,
      "id": "f0486672",
      "metadata": {
        "id": "f0486672",
        "outputId": "be113aa0-a659-4f35-a7a3-17ac5b2ea10f"
      },
      "outputs": [
        {
          "name": "stdout",
          "output_type": "stream",
          "text": [
            "(9259, 70)\n",
            "(9259,)\n"
          ]
        }
      ],
      "source": [
        "features = ['num_foodDO','median income','prop_bachelor','pop_sqkm','num_crime_in2021','Hispanic or Latino','white', 'Black or African American', 'American Indian', 'Asian','Hawaiian', 'other', 'new_cuisine']\n",
        "X = data.loc[:,features]\n",
        "Y = data['GRADE']\n",
        "\n",
        "X = pd.get_dummies(X, columns=['new_cuisine'])\n",
        "\n",
        "print(X.shape)\n",
        "print(Y.shape)"
      ]
    },
    {
      "cell_type": "code",
      "execution_count": null,
      "id": "054cae12",
      "metadata": {
        "id": "054cae12"
      },
      "outputs": [],
      "source": [
        "#standardize\n",
        "from sklearn.preprocessing import StandardScaler\n",
        "\n",
        "cont_features = X.loc[:,'num_foodDO':'other']\n",
        "dummies = X.loc[:,'new_cuisine_Afghan':]\n",
        "cols = cont_features.columns\n",
        "\n",
        "scaler = StandardScaler()\n",
        "stand = scaler.fit_transform(cont_features)\n",
        "stand_features = pd.DataFrame(stand, columns=cols)\n",
        "\n",
        "X_standard = pd.concat([stand_features,dummies], axis=1)"
      ]
    },
    {
      "cell_type": "code",
      "execution_count": null,
      "id": "41891d5c",
      "metadata": {
        "id": "41891d5c"
      },
      "outputs": [],
      "source": [
        "X_train, X_test, y_train, y_test = train_test_split(X_standard, y, stratify=y, test_size=0.2,random_state=234)\n",
        "X_train_1, X_vali, Y_train_1, Y_vali = train_test_split(X_train, y_train, test_size=0.2, random_state=234)"
      ]
    },
    {
      "cell_type": "code",
      "execution_count": null,
      "id": "f559a46b",
      "metadata": {
        "id": "f559a46b",
        "outputId": "6f7e4df9-93cc-4fbf-de8c-908bf05dc31b"
      },
      "outputs": [
        {
          "name": "stderr",
          "output_type": "stream",
          "text": [
            "/Users/yangerjia/opt/anaconda3/lib/python3.9/site-packages/sklearn/metrics/_classification.py:1318: UndefinedMetricWarning: Precision and F-score are ill-defined and being set to 0.0 in labels with no predicted samples. Use `zero_division` parameter to control this behavior.\n",
            "  _warn_prf(average, modifier, msg_start, len(result))\n",
            "/Users/yangerjia/opt/anaconda3/lib/python3.9/site-packages/sklearn/metrics/_classification.py:1318: UndefinedMetricWarning: Precision and F-score are ill-defined and being set to 0.0 in labels with no predicted samples. Use `zero_division` parameter to control this behavior.\n",
            "  _warn_prf(average, modifier, msg_start, len(result))\n",
            "/Users/yangerjia/opt/anaconda3/lib/python3.9/site-packages/sklearn/metrics/_classification.py:1318: UndefinedMetricWarning: Precision and F-score are ill-defined and being set to 0.0 in labels with no predicted samples. Use `zero_division` parameter to control this behavior.\n",
            "  _warn_prf(average, modifier, msg_start, len(result))\n"
          ]
        }
      ],
      "source": [
        "# Train the SVM model\n",
        "clf = SVC()\n",
        "clf.fit(X_train, y_train)\n",
        "\n",
        "# Predict on the test data and compute accuracy and classification report\n",
        "y_pred = clf.predict(X_test)\n",
        "acc = accuracy_score(y_test, y_pred)\n",
        "report = classification_report(y_test, y_pred)"
      ]
    },
    {
      "cell_type": "code",
      "execution_count": null,
      "id": "8a8a51d7",
      "metadata": {
        "id": "8a8a51d7",
        "outputId": "1f2f5e99-f095-48d6-ac26-8e5024ad2ab3"
      },
      "outputs": [
        {
          "name": "stdout",
          "output_type": "stream",
          "text": [
            "Requirement already satisfied: imblearn in /Users/yangerjia/opt/anaconda3/lib/python3.9/site-packages (0.0)\n",
            "Requirement already satisfied: imbalanced-learn in /Users/yangerjia/opt/anaconda3/lib/python3.9/site-packages (from imblearn) (0.10.1)\n",
            "Requirement already satisfied: numpy>=1.17.3 in /Users/yangerjia/opt/anaconda3/lib/python3.9/site-packages (from imbalanced-learn->imblearn) (1.22.4)\n",
            "Requirement already satisfied: joblib>=1.1.1 in /Users/yangerjia/opt/anaconda3/lib/python3.9/site-packages (from imbalanced-learn->imblearn) (1.2.0)\n",
            "Requirement already satisfied: threadpoolctl>=2.0.0 in /Users/yangerjia/opt/anaconda3/lib/python3.9/site-packages (from imbalanced-learn->imblearn) (2.2.0)\n",
            "Requirement already satisfied: scipy>=1.3.2 in /Users/yangerjia/opt/anaconda3/lib/python3.9/site-packages (from imbalanced-learn->imblearn) (1.7.3)\n",
            "Requirement already satisfied: scikit-learn>=1.0.2 in /Users/yangerjia/opt/anaconda3/lib/python3.9/site-packages (from imbalanced-learn->imblearn) (1.0.2)\n"
          ]
        }
      ],
      "source": [
        "! pip install imblearn"
      ]
    },
    {
      "cell_type": "code",
      "execution_count": null,
      "id": "154a2eaf",
      "metadata": {
        "id": "154a2eaf"
      },
      "outputs": [],
      "source": [
        "from sklearn.model_selection import GridSearchCV\n",
        "from sklearn import svm\n",
        "import matplotlib.pyplot as plt"
      ]
    },
    {
      "cell_type": "code",
      "execution_count": null,
      "id": "f2496738",
      "metadata": {
        "id": "f2496738"
      },
      "outputs": [],
      "source": [
        "from imblearn.over_sampling import SMOTE\n",
        "\n",
        "# Apply SMOTE to the training data only\n",
        "sm = SMOTE(random_state=42)\n",
        "X_train_res, y_train_res = sm.fit_resample(X_train, y_train)\n",
        "\n",
        "# Fit the model on the oversampled data\n",
        "clf = svm.SVC(kernel='poly')\n",
        "clf.fit(X_train_res, y_train_res)\n",
        "\n",
        "# Predict on the test data\n",
        "y_pred = clf.predict(X_test)"
      ]
    },
    {
      "cell_type": "code",
      "execution_count": null,
      "id": "b68c92de",
      "metadata": {
        "id": "b68c92de",
        "outputId": "ddad210b-7d42-4d7e-aef9-a863beb2c59e"
      },
      "outputs": [
        {
          "data": {
            "image/png": "[encoded data removed]",
            "text/plain": [
              "<Figure size 432x288 with 1 Axes>"
            ]
          },
          "metadata": {
            "needs_background": "light"
          },
          "output_type": "display_data"
        },
        {
          "name": "stdout",
          "output_type": "stream",
          "text": [
            "Maximum log(C) for Degree 1: 1.8190954773869343\n"
          ]
        },
        {
          "data": {
            "image/png": "[encoded data removed]",
            "text/plain": [
              "<Figure size 432x288 with 1 Axes>"
            ]
          },
          "metadata": {
            "needs_background": "light"
          },
          "output_type": "display_data"
        },
        {
          "name": "stdout",
          "output_type": "stream",
          "text": [
            "Maximum log(C) for Degree 2: 3.2964824120603016\n"
          ]
        },
        {
          "data": {
            "image/png": "[encoded data removed]",
            "text/plain": [
              "<Figure size 432x288 with 1 Axes>"
            ]
          },
          "metadata": {
            "needs_background": "light"
          },
          "output_type": "display_data"
        },
        {
          "name": "stdout",
          "output_type": "stream",
          "text": [
            "Maximum log(C) for Degree 3: 4.311557788944723\n"
          ]
        },
        {
          "data": {
            "image/png": "[encoded data removed]",
            "text/plain": [
              "<Figure size 432x288 with 1 Axes>"
            ]
          },
          "metadata": {
            "needs_background": "light"
          },
          "output_type": "display_data"
        },
        {
          "name": "stdout",
          "output_type": "stream",
          "text": [
            "Maximum log(C) for Degree 4: 7.276381909547741\n"
          ]
        }
      ],
      "source": [
        "import math\n",
        "for d in range(1, 5):\n",
        "    C = [math.exp(i) for i in np.linspace(-10, 2*d, 200)]\n",
        "    log = [np.log(c) for c in C]\n",
        "    OS = []\n",
        "    for j in C:\n",
        "        clf = svm.SVC(kernel='poly', degree=d, C=j)\n",
        "        clf.fit(X_train_1, Y_train_1)\n",
        "        \n",
        "        correct= 1.0*(clf.predict(X_vali) == np.asarray(Y_vali)).sum() / len(Y_vali)\n",
        "        OS.append(correct)\n",
        "    \n",
        "    temp = pd.DataFrame([log,OS]).T\n",
        "    plt.plot(log, OS, label=f'Degree {d}')\n",
        "    plt.ylabel('Accuracy')\n",
        "    plt.xlabel('log(C)')\n",
        "    plt.show()\n",
        "    max_os = max(OS)\n",
        "    max_log = log[OS.index(max_os)]\n",
        "    print(f'Maximum log(C) for Degree {d}: {max_log}')"
      ]
    },
    {
      "cell_type": "code",
      "execution_count": null,
      "id": "bdd95840",
      "metadata": {
        "id": "bdd95840",
        "outputId": "d85f235f-a954-46c7-9b8e-5dcbf32a7ef6"
      },
      "outputs": [
        {
          "name": "stdout",
          "output_type": "stream",
          "text": [
            "Optimal degree: 3\n",
            "Optimal C: 292.4787340127732\n"
          ]
        }
      ],
      "source": [
        "max_accuracy = 0\n",
        "for d in range(1, 5):\n",
        "    C = [math.exp(i) for i in np.linspace(-10, 2*d, 200)]\n",
        "    log = [np.log(c) for c in C]\n",
        "    OS = []\n",
        "    for j in C:\n",
        "        clf = svm.SVC(kernel='poly', degree=d, C=j)\n",
        "        clf.fit(X_train, y_train)\n",
        "        correct= 1.0*(clf.predict(X_vali) == np.asarray(Y_vali)).sum() / len(Y_vali)\n",
        "        OS.append(correct)\n",
        "        if correct > max_accuracy:\n",
        "            max_accuracy = correct\n",
        "            optimal_degree = d\n",
        "            optimal_C = j\n",
        "\n",
        "print(f'Optimal degree: {optimal_degree}')\n",
        "print(f'Optimal C: {optimal_C}')"
      ]
    },
    {
      "cell_type": "code",
      "execution_count": null,
      "id": "bc45afef",
      "metadata": {
        "id": "bc45afef",
        "outputId": "0f76334d-bd1d-45c9-bdb2-d228b6ef9c58"
      },
      "outputs": [
        {
          "name": "stdout",
          "output_type": "stream",
          "text": [
            "Accuracy: 0.683585313174946\n",
            "              precision    recall  f1-score   support\n",
            "\n",
            "           A       0.91      0.70      0.79      1446\n",
            "           B       0.35      0.57      0.44       260\n",
            "           C       0.34      0.75      0.47       146\n",
            "\n",
            "    accuracy                           0.68      1852\n",
            "   macro avg       0.53      0.67      0.57      1852\n",
            "weighted avg       0.78      0.68      0.71      1852\n",
            "\n"
          ]
        }
      ],
      "source": [
        "svm_model=svm.SVC(kernel='poly',C=292.4787340127732,degree=3)\n",
        "svm_model.fit(X_train, y_train)\n",
        "\n",
        "# Evaluate the performance of the SVM model\n",
        "accuracy = accuracy_score(y_test, y_pred)\n",
        "print('Accuracy:', accuracy)\n",
        "print(classification_report(y_test, y_pred))"
      ]
    },
    {
      "cell_type": "markdown",
      "id": "042923dd",
      "metadata": {
        "id": "042923dd"
      },
      "source": [
        "After we conduct oversampling with SMOTE, The accuracy of the SVM model on the testing set is 0.684, which means that the model predicted the correct grade for about 68.4% of the restaurants in the testing set. The precision, recall, and F1-score for each grade are also shown in the output. \n",
        "For grade A, the precision is 0.91, which means that when the model predicts grade A, it is correct 91% of the time. The recall is 0.70, which means that the model correctly identified 70% of the restaurants that actually received grade A. The F1-score is 0.79, which is a harmonic mean of precision and recall. \n",
        "For grade B, the precision is 0.35, which means that when the model predicts grade B, it is correct 35% of the time. The recall is 0.57, which means that the model  correctly identified 57% of the restaurants that actually received grade B. The F1-score is 0.44. \n",
        "For grade C, the precision is 0.34, which means that when the model predicts grade C, it is correct 34% of the time. The recall is 0.75, which means that the model correctly identified 91% of the restaurants that actually received grade C. The F1-score is 0.47. \n",
        "Overall, the accuracy of the model decrease for a little, but the recall score for B and C increased."
      ]
    },
    {
      "cell_type": "code",
      "execution_count": null,
      "id": "8bf52fd5",
      "metadata": {
        "id": "8bf52fd5",
        "outputId": "263cf8de-aa59-4a05-f259-8b94b8e435fb"
      },
      "outputs": [
        {
          "name": "stdout",
          "output_type": "stream",
          "text": [
            "Top 10 most important features:\n",
            "prop_bachelor: 0.12478401727861774\n",
            "median income: 0.11582073434125276\n",
            "num_crime_in2021: 0.09238660907127434\n",
            "white: 0.09109071274298061\n",
            "num_foodDO: 0.08034557235421172\n",
            "Hispanic or Latino: 0.07710583153347736\n",
            "Black or African American: 0.0690604751619871\n",
            "American Indian: 0.0657127429805616\n",
            "Asian: 0.05961123110151193\n",
            "other: 0.04627429805615555\n"
          ]
        }
      ],
      "source": [
        "from sklearn.inspection import permutation_importance\n",
        "\n",
        "# Get the feature importances using permutation feature importance\n",
        "result = permutation_importance(svm_model, X_test, y_test, n_repeats=10, random_state=42)\n",
        "importances = result.importances_mean\n",
        "\n",
        "# Create a dictionary to store the feature importances with their corresponding feature names\n",
        "feature_importances = dict(zip(X.columns, importances))\n",
        "\n",
        "# Sort the dictionary by the absolute value of the feature importances in descending order\n",
        "sorted_importances = sorted(feature_importances.items(), key=lambda x: abs(x[1]), reverse=True)\n",
        "\n",
        "# Print the top 10 most important features\n",
        "print(\"Top 10 most important features:\")\n",
        "for feature, importance in sorted_importances[:10]:\n",
        "    print(f\"{feature}: {importance}\")"
      ]
    },
    {
      "cell_type": "markdown",
      "id": "108b526f",
      "metadata": {
        "id": "108b526f"
      },
      "source": [
        "The SVM model identified the top 10 most important features for predicting restaurant grades, It seems that the most important features for predicting the grade are related to proportion of population with a bachelor's degree, followed by income levels and number of crimes in 2021, and the number of food scrap drop off location in each zip code, then we have some race factors."
      ]
    },
    {
      "cell_type": "code",
      "execution_count": null,
      "id": "f747c802",
      "metadata": {
        "id": "f747c802",
        "outputId": "a8a5931d-a5ca-481a-d32b-eb1021e1d8a9"
      },
      "outputs": [
        {
          "name": "stdout",
          "output_type": "stream",
          "text": [
            "In sample, we successfully predict 79.89739435668962 percent of the data\n",
            "Out of sample, the polynomial kernel successfully predicts 79.64362850971922 percent of the data\n"
          ]
        }
      ],
      "source": [
        "# Polynomial kernel. (Default C=1, Poly=3)\n",
        "clf = svm.SVC(kernel='poly')\n",
        "clf.fit(X_train, y_train)\n",
        "correct=1.0*(clf.predict(X_test)==np.asarray(y_test)).sum()/len(y_test)\n",
        "print(\"In sample, we successfully predict {} percent of the data\".format((y_train==clf.predict(X_train)).sum()*100/len(y_train)))\n",
        "print(\"Out of sample, the polynomial kernel successfully predicts {} percent of the data\".format((correct)*100))"
      ]
    },
    {
      "cell_type": "code",
      "execution_count": null,
      "id": "93f0f171",
      "metadata": {
        "id": "93f0f171",
        "outputId": "1586a705-d459-44d4-8587-a1eea2e87eaa"
      },
      "outputs": [
        {
          "name": "stdout",
          "output_type": "stream",
          "text": [
            "In sample, we successfully predict 86.53975968678277 percent of the data\n",
            "Out of sample, the polynomial kernel successfully predicts 86.03238866396761 percent of the data\n"
          ]
        }
      ],
      "source": [
        "# Polynomial kernel. (Default C=2980.9579870417283, Poly=2272.5167939024323)\n",
        "clf = svm.SVC(kernel='poly',C=292.4787340127732,degree=3)\n",
        "clf.fit(X_train, y_train)\n",
        "correct=1.0*(clf.predict(X_vali)==np.asarray(Y_vali)).sum()/len(Y_vali)\n",
        "print(\"In sample, we successfully predict {} percent of the data\".format((y_train==clf.predict(X_train)).sum()*100/len(y_train)))\n",
        "print(\"Out of sample, the polynomial kernel successfully predicts {} percent of the data\".format((correct)*100))"
      ]
    },
    {
      "cell_type": "code",
      "execution_count": null,
      "id": "caf644fb",
      "metadata": {
        "id": "caf644fb"
      },
      "outputs": [],
      "source": []
    }
  ],
  "metadata": {
    "kernelspec": {
      "display_name": "Python 3 (ipykernel)",
      "language": "python",
      "name": "python3"
    },
    "language_info": {
      "codemirror_mode": {
        "name": "ipython",
        "version": 3
      },
      "file_extension": ".py",
      "mimetype": "text/x-python",
      "name": "python",
      "nbconvert_exporter": "python",
      "pygments_lexer": "ipython3",
      "version": "3.9.12"
    },
    "colab": {
      "provenance": []
    }
  },
  "nbformat": 4,
  "nbformat_minor": 5
}